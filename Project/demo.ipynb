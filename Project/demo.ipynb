{
 "cells": [
  {
   "cell_type": "raw",
   "id": "1728a21f",
   "metadata": {},
   "source": [
    "import importlib\n",
    "import airs"
   ]
  },
  {
   "cell_type": "code",
   "execution_count": 27,
   "id": "fc421d6a",
   "metadata": {},
   "outputs": [
    {
     "name": "stdout",
     "output_type": "stream",
     "text": [
      "Warning: No key points found in ./data/imagenet-r/n01910747/misc_1.jpg.\n",
      "Warning: No key points found in ./data/imagenet-r/n01910747/sculpture_7.jpg.\n",
      "Warning: No key points found in ./data/imagenet-r/n02098286/sketch_0.jpg.\n",
      "Warning: No key points found in ./data/imagenet-r/n02939185/deviantart_13.jpg.\n",
      "Loading: Done.%\n"
     ]
    }
   ],
   "source": [
    "importlib.reload(airs)\n",
    "airs.generateFeatureSet()"
   ]
  },
  {
   "cell_type": "code",
   "execution_count": 2,
   "id": "430175f5",
   "metadata": {},
   "outputs": [
    {
     "data": {
      "text/plain": [
       "29996"
      ]
     },
     "execution_count": 2,
     "metadata": {},
     "output_type": "execute_result"
    }
   ],
   "source": [
    "# importlib.reload(airs)\n",
    "fs = airs.FeatureSet()\n",
    "fs.load()\n",
    "fs.size()"
   ]
  },
  {
   "cell_type": "code",
   "execution_count": 12,
   "id": "a0281590",
   "metadata": {},
   "outputs": [],
   "source": [
    "# importlib.reload(airs)\n",
    "airs.generateTestSet(num = 100)"
   ]
  },
  {
   "cell_type": "code",
   "execution_count": 7,
   "id": "a54ce40f",
   "metadata": {},
   "outputs": [],
   "source": [
    "# importlib.reload(airs)\n",
    "qw = airs.QueryWorker(fs)\n",
    "from time import time"
   ]
  },
  {
   "cell_type": "code",
   "execution_count": 13,
   "id": "c2b9988e",
   "metadata": {
    "scrolled": true
   },
   "outputs": [
    {
     "name": "stdout",
     "output_type": "stream",
     "text": [
      "Testing Image ./data/query/test0/0.jpg: Done. Accuracy: 100.00%, Score: 99.61\n",
      "Testing Image ./data/query/test0/1.jpg: Done. Accuracy: 100.00%, Score: 62.15\n",
      "Testing Image ./data/query/test0/10.jpg: Done. Accuracy: 100.00%, Score: 99.77\n",
      "Testing Image ./data/query/test0/11.jpg: Done. Accuracy: 100.00%, Score: 99.57\n",
      "Testing Image ./data/query/test0/12.jpg: Done. Accuracy: 50.00%, Score: 49.92\n",
      "Testing Image ./data/query/test0/13.jpg: Done. Accuracy: 75.00%, Score: 74.88\n",
      "Testing Image ./data/query/test0/14.jpg: Done. Accuracy: 75.00%, Score: 74.75\n",
      "Testing Image ./data/query/test0/15.jpg: Done. Accuracy: 100.00%, Score: 99.71\n",
      "Testing Image ./data/query/test0/16.jpg: Done. Accuracy: 75.00%, Score: 61.07\n",
      "Testing Image ./data/query/test0/17.jpg: Done. Accuracy: 100.00%, Score: 99.84\n",
      "Testing Image ./data/query/test0/18.jpg: Done. Accuracy: 100.00%, Score: 99.70\n",
      "Testing Image ./data/query/test0/19.jpg: Done. Accuracy: 100.00%, Score: 99.83\n",
      "Testing Image ./data/query/test0/2.jpg: Done. Accuracy: 50.00%, Score: 49.93\n",
      "Testing Image ./data/query/test0/20.jpg: Done. Accuracy: 75.00%, Score: 74.83\n",
      "Testing Image ./data/query/test0/21.jpg: Done. Accuracy: 75.00%, Score: 74.82\n",
      "Testing Image ./data/query/test0/22.jpg: Done. Accuracy: 100.00%, Score: 99.71\n",
      "Testing Image ./data/query/test0/23.jpg: Done. Accuracy: 100.00%, Score: 99.63\n",
      "Testing Image ./data/query/test0/24.jpg: Done. Accuracy: 75.00%, Score: 74.84\n",
      "Testing Image ./data/query/test0/25.jpg: Done. Accuracy: 100.00%, Score: 99.82\n",
      "Testing Image ./data/query/test0/26.jpg: Done. Accuracy: 100.00%, Score: 99.77\n",
      "Testing Image ./data/query/test0/27.jpg: Done. Accuracy: 75.00%, Score: 74.75\n",
      "Testing Image ./data/query/test0/28.jpg: Done. Accuracy: 25.00%, Score: 24.97\n",
      "Testing Image ./data/query/test0/29.jpg: Done. Accuracy: 100.00%, Score: 99.66\n",
      "Testing Image ./data/query/test0/3.jpg: Done. Accuracy: 50.00%, Score: 49.85\n",
      "Testing Image ./data/query/test0/30.jpg: Done. Accuracy: 100.00%, Score: 99.80\n",
      "Testing Image ./data/query/test0/31.jpg: Done. Accuracy: 100.00%, Score: 80.69\n",
      "Testing Image ./data/query/test0/32.jpg: Done. Accuracy: 75.00%, Score: 74.92\n",
      "Testing Image ./data/query/test0/33.jpg: Done. Accuracy: 50.00%, Score: 49.62\n",
      "Testing Image ./data/query/test0/34.jpg: Done. Accuracy: 100.00%, Score: 99.42\n",
      "Testing Image ./data/query/test0/35.jpg: Done. Accuracy: 75.00%, Score: 74.92\n",
      "Testing Image ./data/query/test0/36.jpg: Done. Accuracy: 75.00%, Score: 74.74\n",
      "Testing Image ./data/query/test0/37.jpg: Done. Accuracy: 75.00%, Score: 74.82\n",
      "Testing Image ./data/query/test0/38.jpg: Done. Accuracy: 100.00%, Score: 99.85\n",
      "Testing Image ./data/query/test0/39.jpg: Done. Accuracy: 50.00%, Score: 49.87\n",
      "Testing Image ./data/query/test0/4.jpg: Done. Accuracy: 75.00%, Score: 74.72\n",
      "Testing Image ./data/query/test0/40.jpg: Done. Accuracy: 100.00%, Score: 99.80\n",
      "Testing Image ./data/query/test0/41.jpg: Done. Accuracy: 50.00%, Score: 49.92\n",
      "Testing Image ./data/query/test0/42.jpg: Done. Accuracy: 75.00%, Score: 74.87\n",
      "Testing Image ./data/query/test0/43.jpg: Done. Accuracy: 75.00%, Score: 74.73\n",
      "Testing Image ./data/query/test0/44.jpg: Done. Accuracy: 75.00%, Score: 74.90\n",
      "Testing Image ./data/query/test0/45.jpg: Done. Accuracy: 100.00%, Score: 99.82\n",
      "Testing Image ./data/query/test0/46.jpg: Done. Accuracy: 75.00%, Score: 74.86\n",
      "Testing Image ./data/query/test0/47.jpg: Done. Accuracy: 100.00%, Score: 99.51\n",
      "Testing Image ./data/query/test0/48.jpg: Done. Accuracy: 75.00%, Score: 74.84\n",
      "Testing Image ./data/query/test0/49.jpg: Done. Accuracy: 50.00%, Score: 49.83\n",
      "Testing Image ./data/query/test0/5.jpg: Done. Accuracy: 100.00%, Score: 79.70\n",
      "Testing Image ./data/query/test0/50.jpg: Done. Accuracy: 25.00%, Score: 24.81\n",
      "Testing Image ./data/query/test0/51.jpg: Done. Accuracy: 100.00%, Score: 99.48\n",
      "Testing Image ./data/query/test0/52.jpg: Done. Accuracy: 100.00%, Score: 99.62\n",
      "Testing Image ./data/query/test0/53.jpg: Done. Accuracy: 75.00%, Score: 58.68\n",
      "Testing Image ./data/query/test0/54.jpg: Done. Accuracy: 100.00%, Score: 79.59\n",
      "Testing Image ./data/query/test0/55.jpg: Done. Accuracy: 75.00%, Score: 59.60\n",
      "Testing Image ./data/query/test0/56.jpg: Done. Accuracy: 75.00%, Score: 74.87\n",
      "Testing Image ./data/query/test0/57.jpg: Done. Accuracy: 75.00%, Score: 74.92\n",
      "Testing Image ./data/query/test0/58.jpg: Done. Accuracy: 100.00%, Score: 85.23\n",
      "Testing Image ./data/query/test0/59.jpg: Done. Accuracy: 25.00%, Score: 1.96\n",
      "Testing Image ./data/query/test0/6.jpg: Done. Accuracy: 100.00%, Score: 99.76\n",
      "Testing Image ./data/query/test0/60.jpg: Done. Accuracy: 50.00%, Score: 49.82\n",
      "Testing Image ./data/query/test0/61.jpg: Done. Accuracy: 50.00%, Score: 49.93\n",
      "Testing Image ./data/query/test0/62.jpg: Done. Accuracy: 100.00%, Score: 99.79\n",
      "Testing Image ./data/query/test0/63.jpg: Done. Accuracy: 50.00%, Score: 49.87\n",
      "Testing Image ./data/query/test0/64.jpg: Done. Accuracy: 50.00%, Score: 49.85\n",
      "Testing Image ./data/query/test0/65.jpg: Done. Accuracy: 75.00%, Score: 54.02\n",
      "Testing Image ./data/query/test0/66.jpg: Done. Accuracy: 50.00%, Score: 49.78\n",
      "Testing Image ./data/query/test0/67.jpg: Done. Accuracy: 100.00%, Score: 99.66\n",
      "Testing Image ./data/query/test0/68.jpg: Done. Accuracy: 100.00%, Score: 99.79\n",
      "Testing Image ./data/query/test0/69.jpg: Done. Accuracy: 75.00%, Score: 74.75\n",
      "Testing Image ./data/query/test0/7.jpg: Done. Accuracy: 75.00%, Score: 74.89\n",
      "Testing Image ./data/query/test0/70.jpg: Done. Accuracy: 100.00%, Score: 99.77\n",
      "Testing Image ./data/query/test0/71.jpg: Done. Accuracy: 100.00%, Score: 99.61\n",
      "Testing Image ./data/query/test0/72.jpg: Done. Accuracy: 50.00%, Score: 49.82\n",
      "Testing Image ./data/query/test0/73.jpg: Done. Accuracy: 100.00%, Score: 99.85\n",
      "Testing Image ./data/query/test0/74.jpg: Done. Accuracy: 75.00%, Score: 74.80\n",
      "Testing Image ./data/query/test0/75.jpg: Done. Accuracy: 25.00%, Score: 24.90\n",
      "Testing Image ./data/query/test0/76.jpg: Done. Accuracy: 75.00%, Score: 74.86\n",
      "Testing Image ./data/query/test0/77.jpg: Done. Accuracy: 100.00%, Score: 99.76\n",
      "Testing Image ./data/query/test0/78.jpg: Done. Accuracy: 100.00%, Score: 78.95\n",
      "Testing Image ./data/query/test0/79.jpg: Done. Accuracy: 75.00%, Score: 56.60\n",
      "Testing Image ./data/query/test0/8.jpg: Done. Accuracy: 75.00%, Score: 74.88\n",
      "Testing Image ./data/query/test0/80.jpg: Done. Accuracy: 75.00%, Score: 74.76\n",
      "Testing Image ./data/query/test0/81.jpg: Done. Accuracy: 100.00%, Score: 99.73\n",
      "Testing Image ./data/query/test0/82.jpg: Done. Accuracy: 75.00%, Score: 74.82\n",
      "Testing Image ./data/query/test0/83.jpg: Done. Accuracy: 100.00%, Score: 99.71\n",
      "Testing Image ./data/query/test0/84.jpg: Done. Accuracy: 50.00%, Score: 49.80\n",
      "Testing Image ./data/query/test0/85.jpg: Done. Accuracy: 75.00%, Score: 74.82\n",
      "Testing Image ./data/query/test0/86.jpg: Done. Accuracy: 50.00%, Score: 26.23\n",
      "Testing Image ./data/query/test0/87.jpg: Done. Accuracy: 75.00%, Score: 74.78\n",
      "Testing Image ./data/query/test0/88.jpg: Done. Accuracy: 75.00%, Score: 74.81\n",
      "Testing Image ./data/query/test0/89.jpg: Done. Accuracy: 50.00%, Score: 49.75\n",
      "Testing Image ./data/query/test0/9.jpg: Done. Accuracy: 75.00%, Score: 74.75\n",
      "Testing Image ./data/query/test0/90.jpg: Done. Accuracy: 75.00%, Score: 74.61\n",
      "Testing Image ./data/query/test0/91.jpg: Done. Accuracy: 75.00%, Score: 74.89\n",
      "Testing Image ./data/query/test0/92.jpg: Done. Accuracy: 75.00%, Score: 74.84\n",
      "Testing Image ./data/query/test0/93.jpg: Done. Accuracy: 75.00%, Score: 53.36\n",
      "Testing Image ./data/query/test0/94.jpg: Done. Accuracy: 100.00%, Score: 99.58\n",
      "Testing Image ./data/query/test0/95.jpg: Done. Accuracy: 75.00%, Score: 74.78\n",
      "Testing Image ./data/query/test0/96.jpg: Done. Accuracy: 75.00%, Score: 74.92\n",
      "Testing Image ./data/query/test0/97.jpg: Done. Accuracy: 75.00%, Score: 65.56\n",
      "Testing Image ./data/query/test0/98.jpg: Done. Accuracy: 100.00%, Score: 76.88\n",
      "Testing Image ./data/query/test0/99.jpg: Done. Accuracy: 75.00%, Score: 74.74\n",
      "Mean Accuracy: 78.50%, Mean Score: 75.12\n",
      "Accuracy Deviation: 0.21, Score Deviation: 21.46\n",
      "355.2404715100924\n"
     ]
    }
   ],
   "source": [
    "start = time()\n",
    "qw.load()\n",
    "acc, sc = qw.run()\n",
    "end = time()\n",
    "print((end - start)/60)"
   ]
  },
  {
   "cell_type": "code",
   "execution_count": 30,
   "id": "7356a77a",
   "metadata": {},
   "outputs": [],
   "source": [
    "from matplotlib import pyplot as plt"
   ]
  },
  {
   "cell_type": "code",
   "execution_count": 50,
   "id": "6d98507a",
   "metadata": {},
   "outputs": [
    {
     "data": {
      "image/png": "[encoded data removed]",
      "text/plain": [
       "<Figure size 640x480 with 1 Axes>"
      ]
     },
     "metadata": {},
     "output_type": "display_data"
    }
   ],
   "source": [
    "plt.scatter(x=np.arange(0, 100), y=acc*100-sc, s=5);"
   ]
  },
  {
   "cell_type": "code",
   "execution_count": 46,
   "id": "c8fc421a",
   "metadata": {},
   "outputs": [
    {
     "data": {
      "text/plain": [
       "(array([ 4.,  0.,  0., 16.,  0.,  0., 42.,  0.,  0., 38.]),\n",
       " array([0.25 , 0.325, 0.4  , 0.475, 0.55 , 0.625, 0.7  , 0.775, 0.85 ,\n",
       "        0.925, 1.   ]),\n",
       " <BarContainer object of 10 artists>)"
      ]
     },
     "execution_count": 46,
     "metadata": {},
     "output_type": "execute_result"
    },
    {
     "data": {
      "image/png": "[encoded data removed]",
      "text/plain": [
       "<Figure size 640x480 with 1 Axes>"
      ]
     },
     "metadata": {},
     "output_type": "display_data"
    }
   ],
   "source": [
    "plt.hist(acc)"
   ]
  },
  {
   "cell_type": "code",
   "execution_count": 49,
   "id": "1c50b672",
   "metadata": {},
   "outputs": [
    {
     "data": {
      "image/png": "[encoded data removed]",
      "text/plain": [
       "<Figure size 640x480 with 1 Axes>"
      ]
     },
     "metadata": {},
     "output_type": "display_data"
    }
   ],
   "source": [
    "plt.boxplot(sc, labels = [\"score\"], vert = False);"
   ]
  }
 ],
 "metadata": {
  "kernelspec": {
   "display_name": "Python 3 (ipykernel)",
   "language": "python",
   "name": "python3"
  },
  "language_info": {
   "codemirror_mode": {
    "name": "ipython",
    "version": 3
   },
   "file_extension": ".py",
   "mimetype": "text/x-python",
   "name": "python",
   "nbconvert_exporter": "python",
   "pygments_lexer": "ipython3",
   "version": "3.10.5"
  }
 },
 "nbformat": 4,
 "nbformat_minor": 5
}
